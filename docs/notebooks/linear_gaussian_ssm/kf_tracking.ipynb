{
 "cells": [
  {
   "cell_type": "markdown",
   "id": "92e34046",
   "metadata": {
    "id": "92e34046"
   },
   "source": [
    "# Tracking an object using the Kalman filter\n",
    "\n",
    "\n"
   ]
  },
  {
   "cell_type": "markdown",
   "id": "17072519",
   "metadata": {},
   "source": [
    "\n",
    "Consider an object moving in $R^2$.\n",
    "We assume that we observe a noisy version of its location at each time step.\n",
    "We want to track the object and possibly forecast its future motion.\n",
    "We now show how to do this using a simple linear Gaussian SSM, combined with \n",
    "the Kalman filter algorithm.\n",
    "\n",
    "Let the hidden state represent\n",
    "the position and velocity of the object,\n",
    "$z_t =\\begin{pmatrix} u_t & v_t & \\dot{u}_t & \\dot{v}_t \\end{pmatrix}$.\n",
    "(We use $u$ and $v$ for the two coordinates,\n",
    "to avoid confusion with the state and observation variables.)\n",
    "The process evolves in continuous time, but if we discretize it with step size $\\Delta$,\n",
    "we can write the dynamics as the following linear system:\n",
    "\n",
    "\\begin{align*}\n",
    "\\underbrace{\\begin{pmatrix} u_t\\\\  v_t \\\\  \\dot{u}_t \\\\\\dot{v}_t \\end{pmatrix}}_{z_t}\n",
    "  = \n",
    "\\underbrace{\n",
    "\\begin{pmatrix}\n",
    "1 & 0 & \\Delta & 0 \\\\\n",
    "0 & 1 & 0 & \\Delta\\\\\n",
    "0 & 0 & 1 & 0 \\\\\n",
    "0 & 0 & 0 & 1\n",
    "\\end{pmatrix}\n",
    "}_{F}\n",
    "\\underbrace{\\begin{pmatrix} u_{t-1} \\\\ \\dot{u}_{t-1} \\\\ v_{t-1} \\\\ \\dot{v}_{t-1} \\end{pmatrix}}_{z_{t-1}}\n",
    "+ q_t\n",
    "\\end{align*}\n",
    "\n",
    "where $q_t \\in R^4$ is the process noise, which we assume is Gaussian,\n",
    "so  $q_t \\sim N(0,Q)$.\n",
    "\n",
    "Now suppose that at each discrete time point we\n",
    "observe the location (but not the velocity).\n",
    "We assume the observation is corrupted by  Gaussian noise.\n",
    "Thus the observation model becomes\n",
    "\n",
    "\\begin{align*}\n",
    "\\underbrace{\\begin{pmatrix}  y_{1,t} \\\\  y_{2,t} \\end{pmatrix}}_{y_t}\n",
    "  &=\n",
    "    \\underbrace{\n",
    "    \\begin{pmatrix}\n",
    "1 & 0 & 0 & 0 \\\\\\\n",
    "0 & 1 & 0 & 0\n",
    "    \\end{pmatrix}\n",
    "    }_{H}\n",
    "\\underbrace{\\begin{pmatrix} u_t\\\\ v_t \\\\ \\dot{u}_t \\\\ \\dot{v}_t \\end{pmatrix}}_{z_t}    \n",
    " + r_t\n",
    "\\end{align*}\n",
    "\n",
    "where $r_t \\sim N(0,R)$ is the observation noise.\n",
    "We see that the observation matrix $H$ simply ``extracts'' the\n",
    "relevant parts  of the state vector.\n"
   ]
  },
  {
   "cell_type": "markdown",
   "id": "ce5fdeca",
   "metadata": {},
   "source": [
    "## Setup"
   ]
  },
  {
   "cell_type": "code",
   "execution_count": 1,
   "id": "iCSsZdpXLme0",
   "metadata": {
    "colab": {
     "base_uri": "https://localhost:8080/"
    },
    "id": "iCSsZdpXLme0",
    "outputId": "bf28b24b-0476-4b9d-95e6-99b3a40849a2",
    "tags": [
     "hide-cell"
    ]
   },
   "outputs": [],
   "source": [
    "%%capture\n",
    "try:\n",
    "    import dynamax\n",
    "except ModuleNotFoundError:\n",
    "    print('installing dynamax')\n",
    "    %pip install -q dynamax[notebooks]\n",
    "    import dynamax"
   ]
  },
  {
   "cell_type": "code",
   "execution_count": 2,
   "id": "6eb6c0e6",
   "metadata": {},
   "outputs": [],
   "source": [
    "from jax import numpy as jnp\n",
    "from jax import random as jr\n",
    "from jax import vmap\n",
    "from matplotlib import pyplot as plt\n",
    "\n",
    "from dynamax.utils.plotting import plot_uncertainty_ellipses\n",
    "from dynamax.linear_gaussian_ssm import LinearGaussianSSM\n",
    "from dynamax.linear_gaussian_ssm import lgssm_smoother, lgssm_filter\n"
   ]
  },
  {
   "cell_type": "markdown",
   "id": "118e3213",
   "metadata": {},
   "source": [
    "## Create the model"
   ]
  },
  {
   "cell_type": "code",
   "execution_count": 3,
   "id": "c0fcda3e",
   "metadata": {},
   "outputs": [],
   "source": [
    "state_dim = 4\n",
    "emission_dim = 2\n",
    "delta = 1.0\n",
    "\n",
    "# Create object\n",
    "lgssm = LinearGaussianSSM(state_dim, emission_dim)\n",
    "\n",
    "# Manually chosen parameters\n",
    "initial_mean = jnp.array([8.0, 10.0, 1.0, 0.0])\n",
    "initial_covariance = jnp.eye(state_dim) * 0.1\n",
    "dynamics_weights  = jnp.array([[1, 0, delta, 0],\n",
    "                               [0, 1, 0, delta],\n",
    "                               [0, 0, 1, 0],\n",
    "                               [0, 0, 0, 1]])\n",
    "dynamics_covariance = jnp.eye(state_dim) * 0.001\n",
    "emission_weights = jnp.array([[1.0, 0, 0, 0],\n",
    "                              [0, 1.0, 0, 0]])\n",
    "emission_covariance = jnp.eye(emission_dim)\n",
    "\n",
    "# Initialize model\n",
    "params, _ = lgssm.initialize(jr.PRNGKey(0),\n",
    "                             initial_mean=initial_mean,\n",
    "                             initial_covariance=initial_covariance,\n",
    "                             dynamics_weights=dynamics_weights,\n",
    "                             dynamics_covariance=dynamics_covariance,\n",
    "                             emission_weights=emission_weights,\n",
    "                             emission_covariance=emission_covariance)\n",
    "\n"
   ]
  },
  {
   "cell_type": "markdown",
   "id": "81a28d0d",
   "metadata": {},
   "source": [
    "## Sample some data from the model"
   ]
  },
  {
   "cell_type": "code",
   "execution_count": 4,
   "id": "8f108dd3",
   "metadata": {},
   "outputs": [],
   "source": [
    "num_timesteps = 15\n",
    "key = jr.PRNGKey(310)\n",
    "x, y = lgssm.sample(params, key, num_timesteps)\n",
    "\n",
    "# Plot Data\n",
    "observation_marker_kwargs = {\"marker\": \"o\", \"markerfacecolor\": \"none\", \"markeredgewidth\": 2, \"markersize\": 8}\n",
    "fig1, ax1 = plt.subplots()\n",
    "ax1.plot(*x[:, :2].T, marker=\"s\", color=\"C0\", label=\"true state\")\n",
    "ax1.plot(*y.T, ls=\"\", **observation_marker_kwargs, color=\"tab:green\", label=\"emissions\")\n",
    "ax1.legend(loc=\"upper left\")\n",
    "\n"
   ]
  },
  {
   "cell_type": "code",
   "execution_count": 5,
   "id": "c96d915b",
   "metadata": {
    "tags": [
     "hide-input"
    ]
   },
   "outputs": [],
   "source": [
    "def plot_lgssm_posterior(post_means, post_covs, ax=None, ellipse_kwargs={}, legend_kwargs={}, **kwargs):\n",
    "    \"\"\"Plot posterior means and covariances for the first two dimensions of\n",
    "     the latent state of a LGSSM.\n",
    "\n",
    "    Args:\n",
    "        post_means: array(T, D).\n",
    "        post_covs: array(T, D, D).\n",
    "        ax: matplotlib axis.\n",
    "        ellipse_kwargs: keyword arguments passed to matplotlib.patches.Ellipse().\n",
    "        **kwargs: passed to ax.plot().\n",
    "    \"\"\"\n",
    "    if ax is None:\n",
    "        fig, ax = plt.subplots()\n",
    "\n",
    "    # This is to stop some weird behaviour where running the function multiple\n",
    "    # #  times with an empty argument wouldn't reset the dictionary.\n",
    "    # if ellipse_kwargs is None:\n",
    "    #     ellipse_kwargs = dict()\n",
    "\n",
    "    # if 'edgecolor' not in ellipse_kwargs:\n",
    "    #     if 'color' in kwargs:\n",
    "    #         ellipse_kwargs['edgecolor'] = kwargs['color']\n",
    "\n",
    "    # Select the first two dimensions of the latent space.\n",
    "    post_means = post_means[:, :2]\n",
    "    post_covs = post_covs[:, :2, :2]\n",
    "\n",
    "    # Plot the mean trajectory\n",
    "    ax.plot(post_means[:, 0], post_means[:, 1], **kwargs)\n",
    "    # Plot covariance at each time point.\n",
    "    plot_uncertainty_ellipses(post_means, post_covs, ax, **ellipse_kwargs)\n",
    "\n",
    "    ax.axis(\"equal\")\n",
    "\n",
    "    if \"label\" in kwargs:\n",
    "        ax.legend(**legend_kwargs)\n",
    "\n",
    "    return ax"
   ]
  },
  {
   "cell_type": "markdown",
   "id": "53862c48",
   "metadata": {},
   "source": [
    "## Perform online filtering\n",
    "\n"
   ]
  },
  {
   "cell_type": "code",
   "execution_count": 6,
   "id": "fab5d4e3",
   "metadata": {},
   "outputs": [],
   "source": [
    "lgssm_posterior = lgssm.filter(params, y)\n",
    "print(lgssm_posterior.filtered_means.shape)\n",
    "print(lgssm_posterior.filtered_covariances.shape)\n",
    "print(lgssm_posterior.marginal_loglik)\n",
    "\n"
   ]
  },
  {
   "cell_type": "code",
   "execution_count": 7,
   "id": "b0585932",
   "metadata": {},
   "outputs": [],
   "source": [
    "fig2, ax2 = plt.subplots()\n",
    "ax2.plot(*y.T, ls=\"\", **observation_marker_kwargs, color=\"tab:green\", label=\"observed\")\n",
    "ax2.plot(*x[:, :2].T, ls=\"--\", color=\"darkgrey\", label=\"true state\")\n",
    "plot_lgssm_posterior(\n",
    "    lgssm_posterior.filtered_means,\n",
    "    lgssm_posterior.filtered_covariances,\n",
    "    ax2,\n",
    "    color=\"tab:red\",\n",
    "    label=\"filtered means\",\n",
    "    ellipse_kwargs={\"edgecolor\": \"k\", \"linewidth\": 0.5},\n",
    "    legend_kwargs={\"loc\":\"upper left\"}\n",
    ")"
   ]
  },
  {
   "cell_type": "markdown",
   "id": "ebb8a989",
   "metadata": {},
   "source": [
    "## Perform offline smoothing"
   ]
  },
  {
   "cell_type": "code",
   "execution_count": 8,
   "id": "8d6eae12",
   "metadata": {},
   "outputs": [],
   "source": [
    "lgssm_posterior = lgssm.smoother(params, y)"
   ]
  },
  {
   "cell_type": "code",
   "execution_count": 9,
   "id": "06c8f6ec",
   "metadata": {},
   "outputs": [],
   "source": [
    "fig3, ax3 = plt.subplots()\n",
    "ax3.plot(*y.T, ls=\"\", **observation_marker_kwargs, color=\"tab:green\", label=\"observed\")\n",
    "ax3.plot(*x[:, :2].T, ls=\"--\", color=\"darkgrey\", label=\"true state\")\n",
    "plot_lgssm_posterior(\n",
    "    lgssm_posterior.smoothed_means,\n",
    "    lgssm_posterior.smoothed_covariances,\n",
    "    ax3,\n",
    "    color=\"tab:red\",\n",
    "    label=\"smoothed means\",\n",
    "    ellipse_kwargs={\"edgecolor\": \"k\", \"linewidth\": 0.5},\n",
    "    legend_kwargs={\"loc\":\"upper left\"}\n",
    ")"
   ]
  },
  {
   "cell_type": "markdown",
   "id": "5da88212",
   "metadata": {},
   "source": [
    "## Low-level interface to the underlying inference algorithms\n",
    "\n",
    "We can also call the inference code directly, without having to make an LG-SSM object.\n",
    "We just pass the model parameters directly to the function."
   ]
  },
  {
   "cell_type": "code",
   "execution_count": 10,
   "id": "84299414",
   "metadata": {},
   "outputs": [],
   "source": [
    "filtered_posterior = lgssm_filter(params, y) # Kalman filter\n",
    "smoothed_posterior = lgssm_smoother(params, y) # Kalman filter + smoother\n",
    "assert jnp.allclose(lgssm_posterior.filtered_means, filtered_posterior.filtered_means)\n",
    "assert jnp.allclose(lgssm_posterior.filtered_means, smoothed_posterior.filtered_means)\n",
    "assert jnp.allclose(lgssm_posterior.smoothed_means, smoothed_posterior.smoothed_means)"
   ]
  },
  {
   "cell_type": "markdown",
   "id": "f3437728",
   "metadata": {},
   "source": [
    "## Tracking multiple objects in parallel\n"
   ]
  },
  {
   "cell_type": "code",
   "execution_count": 11,
   "id": "a9492dfd",
   "metadata": {},
   "outputs": [],
   "source": [
    "# Generate 4 sample trajectories\n",
    "num_timesteps = 15\n",
    "num_samples = 4\n",
    "key = jr.PRNGKey(310)\n",
    "keys = jr.split(key, num_samples)\n",
    "xs, ys = vmap(lambda key: lgssm.sample(params, key, num_timesteps))(keys)"
   ]
  },
  {
   "cell_type": "code",
   "execution_count": 12,
   "id": "4618b650",
   "metadata": {},
   "outputs": [],
   "source": [
    "# vmap the inference\n",
    "lgssm_posteriors = vmap(lambda y: lgssm.smoother(params, y))(ys)"
   ]
  },
  {
   "cell_type": "code",
   "execution_count": 13,
   "id": "e9f9885d",
   "metadata": {},
   "outputs": [],
   "source": [
    "def plot_kf_parallel(xs, ys, lgssm_posteriors):\n",
    "    num_samples = len(xs)\n",
    "    dict_figures = {}\n",
    "\n",
    "    # Plot Data\n",
    "    fig, ax = plt.subplots()\n",
    "    for n in range(num_samples):\n",
    "        ax.plot(*xs[n, :, :2].T, ls=\"--\", color=f\"C{n}\")\n",
    "        ax.plot(*ys[n, ...].T, \".\", color=f\"C{n}\", label=f\"Trajectory {n+1}\")\n",
    "    ax.set_title(\"Data\")\n",
    "    ax.legend()\n",
    "    dict_figures[\"missiles_latent\"] = fig\n",
    "\n",
    "    # Plot Filtering\n",
    "    fig, ax = plt.subplots()\n",
    "    for n in range(num_samples):\n",
    "        ax.plot(*ys[n, ...].T, \".\")\n",
    "        filt_means = lgssm_posteriors.filtered_means[n, ...]\n",
    "        filt_covs = lgssm_posteriors.filtered_covariances[n, ...]\n",
    "        plot_lgssm_posterior(\n",
    "            filt_means,\n",
    "            filt_covs,\n",
    "            ax,\n",
    "            color=f\"C{n}\",\n",
    "            ellipse_kwargs={\"edgecolor\": f\"C{n}\", \"linewidth\": 0.5},\n",
    "            label=f\"Trajectory {n+1}\",\n",
    "        )\n",
    "    ax.legend(fontsize=10)\n",
    "    ax.set_title(\"Filtered Posterior\")\n",
    "    dict_figures[\"missiles_filtered\"] = fig\n",
    "\n",
    "    # Plot Smoothing\n",
    "    fig, ax = plt.subplots()\n",
    "    for n in range(num_samples):\n",
    "        ax.plot(*ys[n, ...].T, \".\")\n",
    "        filt_means = lgssm_posteriors.smoothed_means[n, ...]\n",
    "        filt_covs = lgssm_posteriors.smoothed_covariances[n, ...]\n",
    "        plot_lgssm_posterior(\n",
    "            filt_means,\n",
    "            filt_covs,\n",
    "            ax,\n",
    "            color=f\"C{n}\",\n",
    "            ellipse_kwargs={\"edgecolor\": f\"C{n}\", \"linewidth\": 0.5},\n",
    "            label=f\"Trajectory {n+1}\",\n",
    "        )\n",
    "    ax.legend(fontsize=10)\n",
    "    ax.set_title(\"Smoothed Posterior\")\n",
    "    dict_figures[\"missiles_smoothed\"] = fig\n",
    "\n",
    "    return dict_figures"
   ]
  },
  {
   "cell_type": "code",
   "execution_count": 14,
   "id": "7307b949",
   "metadata": {},
   "outputs": [],
   "source": [
    "dict_figures = plot_kf_parallel(xs, ys, lgssm_posteriors)"
   ]
  }
 ],
 "metadata": {
  "colab": {
   "name": "kf_tracking.ipynb",
   "provenance": []
  },
  "kernelspec": {
   "display_name": "Python 3 (ipykernel)",
   "language": "python",
   "name": "python3"
  },
  "language_info": {
   "codemirror_mode": {
    "name": "ipython",
    "version": 3
   },
   "file_extension": ".py",
   "mimetype": "text/x-python",
   "name": "python",
   "nbconvert_exporter": "python",
   "pygments_lexer": "ipython3",
   "version": "3.9.16"
  },
  "vscode": {
   "interpreter": {
    "hash": "31f2aee4e71d21fbe5cf8b01ff0e069b9275f58929596ceb00d14d90e3e16cd6"
   }
  }
 },
 "nbformat": 4,
 "nbformat_minor": 5
}
